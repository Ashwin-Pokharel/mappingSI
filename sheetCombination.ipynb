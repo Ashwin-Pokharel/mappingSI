{
 "metadata": {
  "language_info": {
   "codemirror_mode": {
    "name": "ipython",
    "version": 3
   },
   "file_extension": ".py",
   "mimetype": "text/x-python",
   "name": "python",
   "nbconvert_exporter": "python",
   "pygments_lexer": "ipython3",
   "version": "3.8.0-final"
  },
  "orig_nbformat": 2,
  "kernelspec": {
   "name": "shadowinfluence",
   "display_name": "shadowInfluence"
  }
 },
 "nbformat": 4,
 "nbformat_minor": 2,
 "cells": [
  {
   "cell_type": "code",
   "execution_count": 1,
   "metadata": {},
   "outputs": [],
   "source": [
    "import pandas as pd\n",
    "import numpy as np\n",
    "import dask as dd\n",
    "from typing import Tuple"
   ]
  },
  {
   "cell_type": "code",
   "execution_count": 2,
   "metadata": {},
   "outputs": [],
   "source": [
    "malcom_data_sheet = pd.ExcelFile('../Malcom Feb 17 2020.xlsx')\n",
    "existing_actors = pd.read_csv('actors.csv')\n",
    "existing_acts = existing_actors.apply(lambda x: x.str.lower().str.strip() if x.dtype == object else x )\n",
    "existing_organizations = pd.read_csv('organizations.csv')\n",
    "relevant_sheets = ['Actors', 'Organizations', 'Positions' , 'Project']"
   ]
  },
  {
   "cell_type": "code",
   "execution_count": 4,
   "metadata": {
    "tags": []
   },
   "outputs": [],
   "source": [
    "dataframe_lists = {}\n",
    "for i in relevant_sheets:\n",
    "    dataframe_lists[i] = pd.read_excel(malcom_data_sheet , i)\n",
    "    dataframe_lists[i] = dataframe_lists[i].apply(lambda x : x.str.lower() if x.dtype == object else x)\n",
    "\n"
   ]
  },
  {
   "cell_type": "code",
   "execution_count": null,
   "metadata": {},
   "outputs": [],
   "source": [
    "try:\n",
    "    existing_last_id = existing_actors['act_id'].iat[-1]\n",
    "except Exception as e:\n",
    "    existing_last_id = 0\n",
    "    print(e)\n",
    "    \n",
    "def check_actor_exist(full_name:str, **kwargs)-> Tuple[bool , int]:\n",
    "    actor = existing_actors.at[existing_actors['full_name'] == full_name]\n",
    "    first_name = kwargs.get('first_name' , None)\n",
    "    last_name = kwargs.get('last_name' , None)\n",
    "    middle_name = kwargs.get('middle_name' , None)\n",
    "    if(actor.empty):\n",
    "        if(first_name != None):\n",
    "\n",
    "            \n",
    "        return (False , -1)\n",
    "    elif(actor.shape[0] > 1):\n",
    "        pass\n",
    "    else:\n",
    "        return (True , actor.get('act_id').to_numpy()[0])    \n",
    "\n",
    "    \n",
    "\n",
    "\n",
    "\n",
    "\n",
    "\n",
    "\n"
   ]
  },
  {
   "cell_type": "code",
   "execution_count": null,
   "metadata": {},
   "outputs": [],
   "source": []
  },
  {
   "cell_type": "code",
   "execution_count": null,
   "metadata": {},
   "outputs": [],
   "source": []
  }
 ]
}