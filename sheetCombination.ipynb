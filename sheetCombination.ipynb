{
 "metadata": {
  "language_info": {
   "codemirror_mode": {
    "name": "ipython",
    "version": 3
   },
   "file_extension": ".py",
   "mimetype": "text/x-python",
   "name": "python",
   "nbconvert_exporter": "python",
   "pygments_lexer": "ipython3",
   "version": "3.8.0-final"
  },
  "orig_nbformat": 2,
  "kernelspec": {
   "name": "shadowinfluence",
   "display_name": "shadowInfluence"
  }
 },
 "nbformat": 4,
 "nbformat_minor": 2,
 "cells": [
  {
   "cell_type": "code",
   "execution_count": 13,
   "metadata": {},
   "outputs": [],
   "source": [
    "import pandas as pd\n",
    "import numpy as np\n",
    "import dask as dd\n",
    "from typing import Tuple\n",
    "import shortuuid"
   ]
  },
  {
   "cell_type": "code",
   "execution_count": 14,
   "metadata": {},
   "outputs": [],
   "source": [
    "malcom_data_sheet = pd.ExcelFile('../Malcom Feb 17 2020.xlsx')\n",
    "existing_actors = pd.read_csv('actors.csv')\n",
    "existing_organizations = pd.read_csv('organizations.csv')\n",
    "relevant_sheets = ['Actors', 'Organizations', 'Positions' , 'Project']\n",
    "to_lower_lists = ['Last Name',\t'MI', 'First Name'\t,'Name'\t,'Short Name']\n",
    "new_actors = {'full_name': [] , 'first_name':[] , 'last_name':[] , 'middle_initial':[] , 'act_id': []}\n",
    "new_organization = {'name': [] , 'short_name':[] ,'mnemnoic':[] ,'category': [] , 'org_id': [], 'sector':[] , 'second_sector':[]}"
   ]
  },
  {
   "cell_type": "code",
   "execution_count": 15,
   "metadata": {
    "tags": []
   },
   "outputs": [
    {
     "output_type": "stream",
     "name": "stdout",
     "text": [
      "Input Source             object\nLast Name                object\nMI                       object\nFirst Name               object\nName                     object\nACTID                    object\nShort Name               object\nRank                     object\nBranch                   object\nEntered service         float64\nRetired from service    float64\nService Role             object\nRetired or died         float64\ndtype: object\nInput Source    object\nName            object\nShort name      object\nORGID           object\nCategory        object\nMnemnoic        object\nSector          object\nSector2         object\nXML             object\nUnnamed: 9      object\ndtype: object\n"
     ]
    }
   ],
   "source": [
    "dataframe_lists = {}\n",
    "for i in relevant_sheets:\n",
    "    dataframe_lists[i] = pd.read_excel(malcom_data_sheet , i)\n",
    "\n",
    "dataframe_lists['Actors'] = dataframe_lists['Actors'].apply(lambda x : x.str.lower() if x.name in to_lower_lists else x)\n",
    "dataframe_lists['Organizations'] = dataframe_lists['Organizations'].apply(lambda x: x.str.lower())\n",
    "print(dataframe_lists['Actors'].dtypes)\n",
    "print(dataframe_lists['Organizations'].dtypes)\n",
    "\n"
   ]
  },
  {
   "cell_type": "code",
   "execution_count": 16,
   "metadata": {},
   "outputs": [],
   "source": [
    "def create_actor(full_name:str, **kwargs)-> Tuple[bool , int]:\n",
    "    first_name = str(kwargs.get('first_name' , None))\n",
    "    last_name = str(kwargs.get('last_name' , None))\n",
    "    middle_initial = str(kwargs.get('middle_initial' , None))\n",
    "    if middle_initial is not None:\n",
    "        middle_initial = middle_initial.strip('.,')\n",
    "\n",
    "    id = shortuuid.ShortUUID().random(length=12)\n",
    "    new_actors['full_name'].append(full_name)\n",
    "    new_actors['first_name'].append(first_name)\n",
    "    new_actors['last_name'].append(last_name)\n",
    "    new_actors['middle_initial'].append(middle_initial)\n",
    "    new_actors['act_id'].append(id)\n",
    "    return id\n",
    "\n",
    "\n",
    "def check_actor_exist(full_name:str, **kwargs)-> Tuple[bool , int]:\n",
    "    actor = existing_actors.loc[existing_actors['full_name'] == full_name]\n",
    "    first_name = kwargs.get('first_name' , None)\n",
    "    last_name = kwargs.get('last_name' , None)\n",
    "    middle_initial = kwargs.get('middle_initial' , None)\n",
    "    if(actor.empty):\n",
    "        if last_name != None:\n",
    "            try:\n",
    "                first_name.lower()\n",
    "                actor = existing_actors.loc[existing_actors['last_name'] == last_name]\n",
    "                if not actor.empty and first_name != None:\n",
    "                    actor = actor.loc[actor['first_name'] == first_name]\n",
    "                    if not actor.empty:\n",
    "                        return (True , actor.get('act_id').to_numpy()[0])\n",
    "                    else:\n",
    "                        id = create_actor(full_name , first_name=first_name , last_name=last_name , middle_initial=middle_initial)\n",
    "                        return (True, id)\n",
    "                else:\n",
    "                    id = create_actor(full_name , first_name=first_name , last_name=last_name , middle_initial=middle_initial)\n",
    "                    return (True , id)\n",
    "            except Exception as e:\n",
    "                raise e\n",
    "    elif(actor.shape[0] > 1):\n",
    "        pass\n",
    "    else:\n",
    "        return (True , actor.get('act_id').to_numpy()[0])    \n"
   ]
  },
  {
   "cell_type": "code",
   "execution_count": 17,
   "metadata": {
    "tags": []
   },
   "outputs": [],
   "source": [
    "def check_all_actors(actors):\n",
    "    try:\n",
    "        print(actors.apply(lambda x : check_actor_exist(x['Name'] , first_name=x['First Name'] , last_name=x['Last Name'] , middle_initial=x['MI']) , axis=1))\n",
    "        return (True , 1)\n",
    "    except Exception as e: \n",
    "        return (False , -1 , e)\n",
    "\n",
    "check_all_actors(dataframe_lists['Actors'])\n",
    "new_actors = pd.DataFrame.from_dict(new_actors)\n",
    "existing_actors = pd.concat([existing_actors , new_actors])\n",
    "\n"
   ]
  },
  {
   "cell_type": "code",
   "execution_count": 18,
   "metadata": {},
   "outputs": [],
   "source": [
    "def create_organization(name:str , **kwargs)-> Tuple[bool, int]:\n",
    "    short_name = kwargs.get('short_name', None)\n",
    "    category = kwargs.get('category', None)\n",
    "    sector = kwargs.get('sector', None)\n",
    "    second_sector = kwargs.get('second_sector', None)\n",
    "    mnemnoic = kwargs.get('mnemoic', None)\n",
    "    org_id = shortuuid.ShortUUID().random(length=12)\n",
    "    new_organization['name'].append(name)\n",
    "    new_organization['short_name'].append(short_name)\n",
    "    new_organization['category'].append(category)\n",
    "    new_organization['sector'].append(sector)\n",
    "    new_organization['second_sector'].append(second_sector)\n",
    "    new_organization['mnemnoic'].append(mnemnoic)\n",
    "    new_organization['org_id'].append(org_id)\n",
    "    return id\n",
    "\n",
    "\n",
    "def check_organization_exists(name:str , **kwargs)-> Tuple[bool , int]:\n",
    "    organization = existing_organizations.loc[existing_organizations['name'] == name]\n",
    "    short_name = kwargs.get('short_name', None)\n",
    "    category = kwargs.get('category', None)\n",
    "    sector = kwargs.get('sector', None)\n",
    "    second_sector = kwargs.get('second_sector', None)\n",
    "    mnemnoic = kwargs.get('mnemoic', None)\n",
    "    if organization.empty:\n",
    "            try:\n",
    "                if short_name is not None:\n",
    "                    organization = existing_organizations.loc[existing_organizations['short_name'] == short_name]\n",
    "                    if not organization.empty:\n",
    "                        return (True , organization.get('org_id').to_numpy()[0])\n",
    "                if mnemnoic is not None: \n",
    "                    organization = existing_organizations.loc[existing_organizations['mnemonic'] == mnemonic]\n",
    "                    if not organization.empty:\n",
    "                        return (True , organization.get('org_id').to_numpty()[0])\n",
    "                create_organization(name , short_name=short_name , category=category , sector=sector ,second_sector=second_sector , mnemonic=mnemnoic)\n",
    "            except Exception as e:\n",
    "                raise e\n",
    "    else:\n",
    "        return (True , organization.get('org_id').to_numpy()[0])\n",
    "\n",
    "def check_all_orgs(organizations):\n",
    "    try:\n",
    "        organizations.apply(lambda x : check_organization_exists(x['Name'], short_name=x['Short name'] , category=x['Category'], sector=x['Sector'], second_sector=x['Sector2']) , axis=1)\n",
    "        return (True , 1)\n",
    "    except Exception as e:\n",
    "        raise e\n",
    "        \n",
    "\n",
    "\n",
    "check_all_orgs(dataframe_lists['Organizations'])\n",
    "new_organizations = pd.DataFrame.from_dict(new_organization)\n",
    "existing_organizations = pd.concat([existing_organizations, new_organizations])"
   ]
  },
  {
   "cell_type": "code",
   "execution_count": null,
   "metadata": {},
   "outputs": [],
   "source": []
  }
 ]
}