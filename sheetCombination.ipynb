{
 "metadata": {
  "language_info": {
   "codemirror_mode": {
    "name": "ipython",
    "version": 3
   },
   "file_extension": ".py",
   "mimetype": "text/x-python",
   "name": "python",
   "nbconvert_exporter": "python",
   "pygments_lexer": "ipython3",
   "version": "3.8.0-final"
  },
  "orig_nbformat": 2,
  "kernelspec": {
   "name": "shadowinfluence",
   "display_name": "shadowInfluence"
  }
 },
 "nbformat": 4,
 "nbformat_minor": 2,
 "cells": [
  {
   "cell_type": "code",
   "execution_count": 1,
   "metadata": {},
   "outputs": [],
   "source": [
    "import pandas as pd\n",
    "import numpy as np\n",
    "import dask as dd\n",
    "from typing import Tuple\n",
    "import shortuuid"
   ]
  },
  {
   "cell_type": "code",
   "execution_count": 2,
   "metadata": {},
   "outputs": [],
   "source": [
    "malcom_data_sheet = pd.ExcelFile('../Malcom Feb 17 2020.xlsx')\n",
    "existing_actors = pd.read_csv('actors.csv')\n",
    "existing_actors = existing_actors.apply(lambda x: x.str.lower().str.strip() if x.dtype == object else x )\n",
    "existing_organizations = pd.read_csv('organizations.csv')\n",
    "existing_acts = existing_organizations.apply(lambda x: x.str.lower().str.strip() if x.dtype == object else x)\n",
    "relevant_sheets = ['Actors', 'Organizations', 'Positions' , 'Project']\n",
    "to_lower_lists = ['Last Name',\t'MI', 'First Name'\t,'Name'\t,'Short Name']\n",
    "new_actors = {'full_name': [] , 'first_name':[] , 'last_name':[] , 'middle_initial':[] , 'act_id': []}"
   ]
  },
  {
   "cell_type": "code",
   "execution_count": 3,
   "metadata": {
    "tags": []
   },
   "outputs": [
    {
     "output_type": "execute_result",
     "data": {
      "text/plain": [
       "Input Source             object\n",
       "Last Name                object\n",
       "MI                       object\n",
       "First Name               object\n",
       "Name                     object\n",
       "ACTID                    object\n",
       "Short Name               object\n",
       "Rank                     object\n",
       "Branch                   object\n",
       "Entered service         float64\n",
       "Retired from service    float64\n",
       "Service Role             object\n",
       "Retired or died         float64\n",
       "dtype: object"
      ]
     },
     "metadata": {},
     "execution_count": 3
    }
   ],
   "source": [
    "dataframe_lists = {}\n",
    "for i in relevant_sheets:\n",
    "    dataframe_lists[i] = pd.read_excel(malcom_data_sheet , i)\n",
    "\n",
    "dataframe_lists['Actors'] = dataframe_lists['Actors'].apply(lambda x : x.str.lower() if x.name in to_lower_lists else x)\n",
    "dataframe_lists['Actors'].dtypes\n"
   ]
  },
  {
   "cell_type": "code",
   "execution_count": 4,
   "metadata": {},
   "outputs": [],
   "source": [
    "def create_actor(full_name:str, **kwargs)-> Tuple[bool , int]:\n",
    "    first_name = str(kwargs.get('first_name' , None))\n",
    "    last_name = str(kwargs.get('last_name' , None))\n",
    "    middle_initial = str(kwargs.get('middle_initial' , None))\n",
    "    if middle_initial is not None:\n",
    "        middle_initial = middle_initial.strip('.,')\n",
    "\n",
    "    id = shortuuid.ShortUUID().random(length=12)\n",
    "    new_actors['full_name'].append(full_name)\n",
    "    new_actors['first_name'].append(first_name)\n",
    "    new_actors['last_name'].append(last_name)\n",
    "    new_actors['middle_initial'].append(middle_initial)\n",
    "    new_actors['act_id'].append(id)\n",
    "    return id\n",
    "\n",
    "\n",
    "def check_actor_exist(full_name:str, **kwargs)-> Tuple[bool , int]:\n",
    "    actor = existing_actors.loc[existing_actors['full_name'] == full_name]\n",
    "    first_name = kwargs.get('first_name' , None)\n",
    "    last_name = kwargs.get('last_name' , None)\n",
    "    middle_initial = kwargs.get('middle_initial' , None)\n",
    "    if(actor.empty):\n",
    "        if last_name != None:\n",
    "            try:\n",
    "                first_name.lower()\n",
    "                actor = existing_actors.loc[existing_actors['last_name'] == last_name]\n",
    "                if not actor.empty and first_name != None:\n",
    "                    actor = actor.loc[actor['first_name'] == first_name]\n",
    "                    if not actor.empty:\n",
    "                        return (True , actor.get('act_id').to_numpy()[0])\n",
    "                    else:\n",
    "                        id = create_actor(full_name , first_name=first_name , last_name=last_name , middle_initial=middle_initial)\n",
    "                        return (True, id)\n",
    "                else:\n",
    "                    id = create_actor(full_name , first_name=first_name , last_name=last_name , middle_initial=middle_initial)\n",
    "                    return (True , id)\n",
    "            except Exception as e:\n",
    "                return (False , -1 , e)\n",
    "    elif(actor.shape[0] > 1):\n",
    "        pass\n",
    "    else:\n",
    "        return (True , actor.get('act_id').to_numpy()[0])    \n"
   ]
  },
  {
   "cell_type": "code",
   "execution_count": 5,
   "metadata": {
    "tags": []
   },
   "outputs": [
    {
     "output_type": "stream",
     "name": "stdout",
     "text": [
      "0      (True, 7DTvuAFx3v9c)\n1      (True, bPpCZ9dXCzct)\n2      (True, 56AW6FCUpZF9)\n3      (True, 5UmyPSgbs3AF)\n4      (True, 5d7jPMmhYewm)\n               ...         \n798    (True, 3wdBZQjS8SsA)\n799    (True, 4Urnyh9gGKX3)\n800    (True, 3C5K5ybpcwnD)\n801    (True, 7ug8uqnrt5Ve)\n802    (True, xGQHdiBkJUAD)\nLength: 803, dtype: object\n(True, 1)\n"
     ]
    }
   ],
   "source": [
    "def check_all_actors(actors):\n",
    "    try:\n",
    "        print(actors.apply(lambda x : check_actor_exist(x['Name'] , first_name=x['First Name'] , last_name=x['Last Name'] , middle_initial=x['MI']) , axis=1))\n",
    "        return (True , 1)\n",
    "    except Exception as e: \n",
    "        return (False , -1 , e)\n",
    "\n",
    "check_all_actors(dataframe_lists['Actors'])\n",
    "new_actors = pd.DataFrame.from_dict(new_actors)\n",
    "existing_actors = pd.concat([existing_actors , new_actors])\n",
    "\n"
   ]
  },
  {
   "cell_type": "code",
   "execution_count": 7,
   "metadata": {},
   "outputs": [
    {
     "output_type": "stream",
     "name": "stdout",
     "text": [
      "(802, 6)\n[['abbot s. charles' 'charles' 'abbot' nan '7DTvuAFx3v9c' 's']\n ['regni f john' 'john' 'regni' nan 'bPpCZ9dXCzct' 'f']\n ['weisman s. david' 'david' 'weisman' nan '56AW6FCUpZF9' 's']\n ...\n ['christine rake' 'rake' 'christine' nan '3C5K5ybpcwnD' 'nan']\n ['qubad talabany' 'talabany' 'qubad' nan '7ug8uqnrt5Ve' 'j. ']\n ['tom squituri' 'squituri' 'tom' nan 'xGQHdiBkJUAD' 'nan']]\n"
     ]
    }
   ],
   "source": [
    "print(existing_actors.shape)\n",
    "print(existing_actors.values)"
   ]
  },
  {
   "cell_type": "code",
   "execution_count": null,
   "metadata": {},
   "outputs": [],
   "source": []
  }
 ]
}