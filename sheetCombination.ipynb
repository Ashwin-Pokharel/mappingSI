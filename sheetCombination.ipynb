{
 "metadata": {
  "language_info": {
   "codemirror_mode": {
    "name": "ipython",
    "version": 3
   },
   "file_extension": ".py",
   "mimetype": "text/x-python",
   "name": "python",
   "nbconvert_exporter": "python",
   "pygments_lexer": "ipython3",
   "version": "3.8.0-final"
  },
  "orig_nbformat": 2,
  "kernelspec": {
   "name": "shadowinfluence",
   "display_name": "shadowInfluence"
  }
 },
 "nbformat": 4,
 "nbformat_minor": 2,
 "cells": [
  {
   "cell_type": "code",
   "execution_count": 1,
   "metadata": {},
   "outputs": [],
   "source": [
    "import pandas as pd\n",
    "import numpy as np\n",
    "import dask as dd\n",
    "from typing import Tuple"
   ]
  },
  {
   "cell_type": "code",
   "execution_count": 2,
   "metadata": {},
   "outputs": [],
   "source": [
    "malcom_data_sheet = pd.ExcelFile('../Malcom Feb 17 2020.xlsx')\n",
    "existing_actors = pd.read_csv('actors.csv')\n",
    "existing_actors = existing_actors.apply(lambda x: x.str.lower().str.strip() if x.dtype == object else x )\n",
    "try:\n",
    "    existing_last_id = existing_actors['act_id'].iat[-1]\n",
    "except Exception as e:\n",
    "    existing_last_id = 0\n",
    "\n",
    "existing_organizations = pd.read_csv('organizations.csv')\n",
    "existing_acts = existing_organizations.apply(lambda x: x.str.lower().str.strip() if x.dtype == object else x)\n",
    "relevant_sheets = ['Actors', 'Organizations', 'Positions' , 'Project']\n",
    "to_lower_lists = ['Last Name',\t'MI', 'First Name'\t,'Name'\t,'Short Name']"
   ]
  },
  {
   "cell_type": "code",
   "execution_count": 4,
   "metadata": {
    "tags": []
   },
   "outputs": [],
   "source": [
    "dataframe_lists = {}\n",
    "for i in relevant_sheets:\n",
    "    dataframe_lists[i] = pd.read_excel(malcom_data_sheet , i)\n",
    "    dataframe_lists[i] = dataframe_lists[i].apply(lambda x : x.str.lower() if x.name in to_lower_lists else x)\n",
    "\n"
   ]
  },
  {
   "cell_type": "code",
   "execution_count": 5,
   "metadata": {},
   "outputs": [],
   "source": [
    "\n",
    "def check_actor_exist(full_name:str, **kwargs)-> Tuple[bool , int]:\n",
    "    print(\"inside\")\n",
    "    actor = existing_actors.loc[existing_actors['full_name'] == full_name]\n",
    "    first_name = kwargs.get('first_name' , None)\n",
    "    last_name = kwargs.get('last_name' , None)\n",
    "    middle_name = kwargs.get('middle_name' , None)\n",
    "    if(actor.empty):\n",
    "        if last_name != None:\n",
    "            try:\n",
    "                first_name.lower()\n",
    "                actor = existing_actors.loc[existing_actors['last_name'] == last_name]\n",
    "                if not actor.empty and first_name != None:\n",
    "                    actor = actor.loc[actor['first_name'] == first_name]\n",
    "                    if not actor.empty:\n",
    "                        return (True , actor.get('act_id').to_numpy()[0])\n",
    "                    else:\n",
    "                        return (False , -1)\n",
    "                else:\n",
    "                    return (False , -1)\n",
    "            except Exception as e:\n",
    "                return (False , -1)\n",
    "    elif(actor.shape[0] > 1):\n",
    "        pass\n",
    "    else:\n",
    "        return (True , actor.get('act_id').to_numpy()[0])    \n"
   ]
  },
  {
   "cell_type": "code",
   "execution_count": 8,
   "metadata": {},
   "outputs": [
    {
     "output_type": "stream",
     "name": "stdout",
     "text": [
      "(False, -1)\n"
     ]
    },
    {
     "output_type": "execute_result",
     "data": {
      "text/plain": [
       "Input Source             object\n",
       "Last Name                object\n",
       "MI                       object\n",
       "First Name               object\n",
       "Name                     object\n",
       "ACTID                    object\n",
       "Short Name               object\n",
       "Rank                     object\n",
       "Branch                   object\n",
       "Entered service         float64\n",
       "Retired from service    float64\n",
       "Service Role             object\n",
       "Retired or died         float64\n",
       "dtype: object"
      ]
     },
     "metadata": {},
     "execution_count": 8
    }
   ],
   "source": [
    "test_actor = dataframe_lists['Actors'].take([0])\n",
    "test_actor_name = test_actor.get('Name').to_numpy()[0]\n",
    "test_actor_first_name = test_actor.get('First Name').to_numpy()[0]\n",
    "test_actor_last_name = test_actor.get('Last Name').to_numpy()[0]\n",
    "print(check_actor_exist(test_actor_name , first_name=test_actor_first_name, last_name=test_actor_last_name))\n",
    "dataframe_lists['Actors'].dtypes"
   ]
  },
  {
   "cell_type": "code",
   "execution_count": 32,
   "metadata": {
    "tags": [
     "outputPrepend"
    ]
   },
   "outputs": [
    {
     "output_type": "stream",
     "name": "stdout",
     "text": [
      "')\n('franklin e. carl', 'carl', 'franklin')\n('costello john', 'john', 'costello')\n('costello m. barry', 'barry', 'costello')\n('cosumano m. joseph', 'joseph', 'cosumano')\n('cotton g. john', 'john', 'cotton')\n('covault l. marvin', 'marvin', 'covault')\n('cowan l. michael', 'michael', 'cowan')\n('craddock j. bantz', 'bantz', 'craddock')\n('craine w. john', 'john', 'craine')\n('cranston e stewart', 'stewart', 'cranston')\n('crenshaw w. lewis', 'lewis', 'crenshaw')\n('macdonald e. bruce', 'bruce', 'macdonald')\n('crocker a. george', 'george', 'crocker')\n('croker b stephen', 'stephen', 'croker')\n('croom, jr e charles', 'charles', 'croom, jr')\n('crouch w. william', 'william', 'crouch')\n('crowder d. william', 'william', 'crowder')\n('crysel w. james', 'james', 'crysel')\n('curran m. john', 'john', 'curran')\n('cusick j. john', 'john', 'cusick')\n('cuviello m. peter', 'peter', 'cuviello')\n('dail t. robert', 'robert', 'dail')\n('mutter carol', 'carol', 'mutter')\n('jackson, jr. e. john', 'john', 'jackson, jr.')\n('dailey l. dell', 'dell', 'dailey')\n('dailey r. john', 'john', 'dailey')\n('dake r. terrence', 'terrence', 'dake')\n('dallager r john', 'john', 'dallager')\n('davis j. walter', 'walter', 'davis')\n('davis b. james', 'james', 'davis')\n('davison s. michael', 'michael', 'davison')\n('dawson culter', 'culter', 'dawson')\n('defrancisco e. joseph', 'joseph', 'defrancisco')\n('dekok g roger', 'roger', 'dekok')\n('rosa, jr w john', 'john', 'rosa, jr')\n('delong michael', 'michael', 'delong')\n('demars bruce', 'bruce', 'demars')\n('dierker r. rob', 'rob', 'dierker')\n('dodson l. michael', 'michael', 'dodson')\n('dominy e. charles', 'charles', 'dominy')\n('donahue j. robert', 'robert', 'donahue')\n('donahue j william', 'william', 'donahue')\n('donnell s. joseph', 'joseph', 'donnell')\n('donovan r. frank', 'frank', 'donovan')\n('doran f. walter', 'walter', 'doran')\n('peterson l donald', 'donald', 'peterson')\n('dorsey, f. james', 'james', 'dorsey,')\n('dougherty a. bill', 'bill', 'dougherty')\n('downing wayne', 'wayne', 'downing')\n('dubia a. john', 'john', 'dubia')\n('dubik m. james', 'james', 'dubik')\n('dugan j michael', 'michael', 'dugan')\n('dula m brett', 'brett', 'dula')\n('dunn m michael', 'michael', 'dunn')\n('dyer w. joe', 'joe', 'dyer')\n('earner a. william', 'william', 'earner')\n('newbold gregory', 'gregory', 'newbold')\n('ebbesen e. samuel', 'samuel', 'ebbesen')\n('eberhart e. ralph', 'ralph', 'eberhart')\n('edmonds j. albert', 'albert', 'edmonds')\n('edney a. leon', 'leon', 'edney')\n('edwards j. mark', 'mark', 'edwards')\n('eichelberger b. charles', 'charles', 'eichelberger')\n('eickmann e kenneth', 'kenneth', 'eickmann')\n('eikenberry w. karl', 'karl', 'eikenberry')\n('elder j robert', 'robert', 'elder')\n('ellis r. larry', 'larry', 'ellis')\n('vollrath e. frederick', 'frederick', 'vollrath')\n('ellis o. james', 'james', 'ellis')\n('ellis r. james', 'james', 'ellis')\n('emery w. george', 'george', 'emery')\n('esmond r marvin', 'marvin', 'esmond')\n('estes iii m howell', 'howell', 'estes iii')\n('etnyre william', 'william', 'etnyre')\n('etnyre t. terrance', 'terrance', 'etnyre')\n('eytchison ronald', 'ronald', 'eytchison')\n('fages malcolm', 'malcolm', 'fages')\n('fain, jr. a james', 'james', 'fain, jr.')\n('raggio f robert', 'robert', 'raggio')\n('fairfield s john', 'john', 'fairfield')\n('fallon j. william', 'william', 'fallon')\n('fargo b. thomas', 'thomas', 'fargo')\n('farrell, jr p lawrence', 'lawrence', 'farrell, jr')\n('farris b. jack', 'jack', 'farris')\n('ferguson r. thomas', 'thomas', 'ferguson')\n('fields tom', 'tom', 'fields')\n('fischer h. eugene', 'eugene', 'fischer')\n('fisher a. george', 'george', 'fisher')\n('fister l. bruce', 'bruce', 'fister')\n('kennedy j. claudia', 'claudia', 'kennedy')\n('fitzgerald r. james', 'james', 'fitzgerald')\n('flanagan j. william', 'william', 'flanagan')\n('flowers b. robert', 'robert', 'flowers')\n('flynn s. william', 'william', 'flynn')\n('fogleman r ronald', 'ronald', 'fogleman')\n('foglesong h robert', 'robert', 'foglesong')\n('foley f. robert', 'robert', 'foley')\n('ford j phillip', 'phillip', 'ford')\n('fornell e. gordon', 'gordon', 'fornell')\n('forster h. william', 'william', 'forster')\n('mccarthy p james', 'james', 'mccarthy')\n('foss w. john', 'john', 'foss')\n('franklin e charles', 'charles', 'franklin')\n('franks m. frederick', 'frederick', 'franks')\n('franks r. tommy', 'tommy', 'franks')\n('freitag merle', 'merle', 'freitag')\n('frost e. david', 'david', 'frost')\n('fry a. scott', 'scott', 'fry')\n('fulford w. carl', 'carl', 'fulford')\n('funk e. paul', 'paul', 'funk')\n('gabreski l terry', 'terry', 'gabreski')\n('lyles l lester', 'lester', 'lyles')\n('gaffney g. paul', 'paul', 'gaffney')\n('galvin r. john', 'john', 'galvin')\n('gamble k patrick', 'patrick', 'gamble')\n('gard g. robert', 'robert', 'gard')\n('gardner emerson', 'emerson', 'gardner')\n('garner m. jay', 'jay', 'garner')\n('gehman w. harold', 'harold', 'gehman')\n('giambastiani edmund', 'edmund', 'giambastiani')\n('giffin c. henry', 'henry', 'giffin')\n('glisson tom', 'tom', 'glisson')\n('hudson l john', 'john', 'hudson')\n('glosson c. buster (brad)', 'buster (brad)', 'glosson')\n('goodman john', 'john', 'goodman')\n('gordon a john', 'john', 'gordon')\n('goslin, jr b thomas', 'thomas', 'goslin, jr')\n('granrud h. jerome', 'jerome', 'granrud')\n('graves g. richard', 'richard', 'graves')\n('gray m. alfred', 'alfred', 'gray')\n('gray e. robert', 'robert', 'gray')\n('green e. stanley', 'stanley', 'green')\n('green p. kevin', 'kevin', 'green')\n('kensinger, jr r philip', 'philip', 'kensinger, jr')\n('wilson e. johnnie', 'johnnie', 'wilson')\n('gregson wallace', 'wallace', 'gregson')\n('griffin s. benjamin', 'benjamin', 'griffin')\n('griffin n. thomas', 'thomas', 'griffin')\n('griffith h. ronald', 'ronald', 'griffith')\n('griffith c john', 'john', 'griffith')\n('grossenbacher j. john', 'john', 'grossenbacher')\n('guenther j. otto', 'otto', 'guenther')\n('gunn f. lee', 'lee', 'gunn')\n('habiger e eugene', 'eugene', 'habiger')\n('hack a. richard', 'richard', 'hack')\n('shaud a john', 'john', 'shaud')\n('hagee w. michael', 'michael', 'hagee')\n('hagen f. donald', 'donald', 'hagen')\n('hailston earl', 'earl', 'hailston')\n('hall r. james', 'james', 'hall')\n('hall john', 'john', 'hall')\n('hallin p william', 'william', 'hallin')\n('hamel a michael', 'michael', 'hamel')\n('hammond d. robert', 'robert', 'hammond')\n('hammond a. trevor', 'trevor', 'hammond')\n('hancock j. william', 'william', 'hancock')\n('howe t. jonathan', 'jonathan', 'howe')\n('handy w john', 'john', 'handy')\n('hanlon edward', 'edward', 'hanlon')\n('hardisty huntington', 'huntington', 'hardisty')\n('harms g. albert', 'albert', 'harms')\n('harrison h. william', 'william', 'harrison')\n('hartzog william', 'william', 'hartzog')\n('haskins d. michael', 'michael', 'haskins')\n('hatch j. henry', 'henry', 'hatch')\n('hatch, jr. w monroe', 'monroe', 'hatch, jr.')\n('hawley e richard', 'richard', 'hawley')\n('stroup g. theodore', 'theodore', 'stroup')\n('hayden v michael', 'michael', 'hayden')\n('hearney d. richard', 'richard', 'hearney')\n('heebner k. david', 'david', 'heebner')\n('heflebower r charles', 'charles', 'heflebower')\n('hekman m. peter', 'peter', 'hekman')\n('helland samuel', 'samuel', 'helland')\n('helmly r. james', 'james', 'helmly')\n('hendrix w. john', 'john', 'hendrix')\n('herberger j. albert', 'albert', 'herberger')\n('hernandez e. diego', 'diego', 'hernandez')\n(\"o'berry g. carl\", 'carl', \"o'berry\")\n('hester v paul', 'paul', 'hester')\n('hill t. james', 'james', 'hill')\n('hilmes b. jerome', 'jerome', 'hilmes')\n('hinson c robert', 'robert', 'hinson')\n('hissong fred', 'fred', 'hissong')\n('hite v. ronald', 'ronald', 'hite')\n('hoar p. joseph', 'joseph', 'hoar')\n('hobbins t william', 'william', 'hobbins')\n('hoewing l. gerald', 'gerald', 'hoewing')\n('hogg r. james', 'james', 'hogg')\n('wallace s. william', 'william', 'wallace')\n('hogle jr s walter', 'walter', 'hogle jr')\n('holder s. gordon', 'gordon', 'holder')\n('holder d. leonard', 'leonard', 'holder')\n('holland r charles', 'charles', 'holland')\n('honore l. russel', 'russel', 'honore')\n('hopper, jr d john', 'john', 'hopper, jr')\n('hornburg m hal', 'hal', 'hornburg')\n('horner a. charles', 'charles', 'horner')\n('howell jefferson', 'jefferson', 'howell')\n('hudson b. joel', 'joel', 'hudson')\n('johnson g. gregory', 'gregory', 'johnson')\n('hull d. james', 'james', 'hull')\n('huot p raymond', 'raymond', 'huot')\n('hurd e joseph', 'joseph', 'hurd')\n('iverson w. ronald', 'ronald', 'iverson')\n('johnson h. james', 'james', 'johnson')\n('johnson l. jay', 'jay', 'johnson')\n('johnson l. jerome', 'jerome', 'johnson')\n('jones a. dennis', 'dennis', 'jones')\n('joulwan a. george', 'george', 'joulwan')\n('keating j. timothy', 'timothy', 'keating')\n('reimer j. dennis', 'dennis', 'reimer')\n('keck j. thomas', 'thomas', 'keck')\n('kehoe b nicholas', 'nicholas', 'kehoe')\n('keller f. richard', 'richard', 'keller')\n('kelley j. david', 'david', 'kelley')\n('kelley w. jay', 'jay', 'kelley')\n('kelso b. frank', 'frank', 'kelso')\n('kenne f leslie', 'leslie', 'kenne')\n('kernan f. william', 'william', 'kernan')\n('kerrick l. donald', 'donald', 'kerrick')\n('keys william', 'william', 'keys')\n('mundy e. carl', 'carl', 'mundy')\n('keys e robert', 'robert', 'keys')\n('kicklighter m. claude', 'claude', 'kicklighter')\n('kime william', 'william', 'kime')\n('kind a. peter', 'peter', 'kind')\n('knutson bruce', 'bruce', 'knutson')\n('kohler b jeffrey', 'jeffrey', 'kohler')\n('kohn r. edwin', 'edwin', 'kohn')\n('konetzni h. albert', 'albert', 'konetzni')\n('krekich j. alexander', 'alexander', 'krekich')\n('kross walter', 'walter', 'kross')\n('oelstrom j tad', 'tad', 'oelstrom')\n('krulak charles', 'charles', 'krulak')\n('laboa guy', 'guy', 'laboa')\n('lafleur w. timothy', 'timothy', 'lafleur')\n('lamontagne a donald', 'donald', 'lamontagne')\n('lanoue m. alcide', 'alcide', 'lanoue')\n('larsen r dennis', 'dennis', 'larsen')\n('le moyne m. john', 'john', 'le moyne')\n('leaf p daniel', 'daniel', 'leaf')\n('ledford f. frank', 'frank', 'ledford')\n('libutti frank', 'frank', 'libutti')\n('mcfarren e. freddy', 'freddy', 'mcfarren')\n('rempt p. rodney', 'rodney', 'rempt')\n('lichte j arthur', 'arthur', 'lichte')\n('lionetti m. donald', 'donald', 'lionetti')\n('lockard a. john', 'john', 'lockard')\n('loftus f. stephen', 'stephen', 'loftus')\n('loh michael john', 'john', 'loh')\n('looney iii r william', 'william', 'looney iii')\n('lopez joe', 'joe', 'lopez')\n('lorber g john', 'john', 'lorber')\n('lord w. lance', 'lance', 'lord')\n('lovelace j. james', 'james', 'lovelace')\n('winglass robert', 'robert', 'winglass')\n('loy james', 'james', 'loy')\n('macke c. richard', 'richard', 'macke')\n('maddox m. david', 'david', 'maddox')\n('magnus robert', 'robert', 'magnus')\n('malone d. michael', 'michael', 'malone')\n('maples d. michael', 'michael', 'maples')\n('marcotte c ronald', 'ronald', 'marcotte')\n('marsh g. caryl', 'caryl', 'marsh')\n('martin s gregory', 'gregory', 'martin')\n('massenburg b. walter', 'walter', 'massenburg')\n('ryan r. john', 'john', 'ryan')\n('mayer j. martin', 'martin', 'mayer')\n('mayo w. richard', 'richard', 'mayo')\n('mazach j. john', 'john', 'mazach')\n('mcarthur, jr. d. james', 'james', 'mcarthur, jr.')\n('mccarthy d. justin', 'justin', 'mccarthy')\n('mcconnell m. john', 'john', 'mcconnell')\n('mcdonald c charles', 'charles', 'mcdonald')\n('mcfann l maurice (lee)', 'maurice (lee)', 'mcfann')\n('mckiernan d. david', 'david', 'mckiernan')\n('mckissock gary', 'gary', 'mckissock')\n('van riper van paul', 'paul', 'van riper')\n('mcneill k. dan', 'dan', 'mcneill')\n('mcpeak a. merrill', 'merrill', 'mcpeak')\n('mears h. gary', 'gary', 'mears')\n('melcher f. david', 'david', 'melcher')\n('menoher e. paul', 'paul', 'menoher')\n('metz f. tom', 'tom', 'metz')\n('metzger w. james', 'james', 'metzger')\n('mies richard', 'richard', 'mies')\n('miller e. john', 'john', 'miller')\n('mobley s. joseph', 'joseph', 'mobley')\n('rutherford r. jerry', 'jerry', 'rutherford')\n('moorhead ii w glen', 'glen', 'moorhead ii')\n('myers t. john', 'john', 'myers')\n('myers b richard', 'richard', 'myers')\n('nanos p. george', 'george', 'nanos')\n('nathman b. john', 'john', 'nathman')\n('natter j. robert', 'robert', 'natter')\n('nelson a. r.', 'r.', 'nelson')\n('nichols, jr. c. david', 'david', 'nichols, jr.')\n('noah max', 'max', 'noah')\n('noonan w. robert', 'robert', 'noonan')\n('hughey gary', 'gary', 'hughey')\n('oster w. jeffrey', 'jeffrey', 'oster')\n('otjen p. john', 'john', 'otjen')\n('otstott carles', 'carles', 'otstott')\n('pilling l. donald', 'donald', 'pilling')\n('pratt h. everett', 'everett', 'pratt')\n('prueher w. joseph', 'joseph', 'prueher')\n('raduege harry', 'harry', 'raduege')\n('ralston w joseph', 'joseph', 'ralston')\n('ray w norman', 'norman', 'ray')\n('riggs m. john', 'john', 'riggs')\n('yeosock j. john', 'john', 'yeosock')\n('riley c. james', 'james', 'riley')\n('riscassi w. robert', 'robert', 'riscassi')\n('rives l jack', 'jack', 'rives')\n('roadman h charles', 'charles', 'roadman')\n('robinson b. david', 'david', 'robinson')\n('rochelle d. michael', 'michael', 'rochelle')\n('rodgers d. thurman', 'thurman', 'rodgers')\n('ross d. jimmy', 'jimmy', 'ross')\n('route a. ronald', 'ronald', 'route')\n('russ d robert', 'robert', 'russ')\n('jones l. james', 'james', 'jones')\n('sams f ronald', 'ronald', 'sams')\n('sams, jr b john', 'john', 'sams, jr')\n('schmidt m randall', 'randall', 'schmidt')\n('schroeder r. daniel', 'daniel', 'schroeder')\n('scofield m richard', 'richard', 'scofield')\n('seip r. norman', 'norman', 'seip')\n('sheehan j. john', 'john', 'sheehan')\n('sherrard iii e james', 'james', 'sherrard iii')\n('short e. alonzo', 'alonzo', 'short')\n('short c michael', 'michael', 'short')\n('meigs c. montgomery', 'montgomery', 'meigs')\n('shultz c roger', 'roger', 'shultz')\n('smith d. william', 'william', 'smith')\n('smith l lance', 'lance', 'smith')\n('soligan n james', 'james', 'soligan')\n('speakes m. stephen', 'stephen', 'speakes')\n('speer d. gary', 'gary', 'speer')\n('spigelmire mike', 'mike', 'spigelmire')\n('steele martin', 'martin', 'steele')\n('steele m. william', 'william', 'steele')\n('stiner w. carl', 'carl', 'stiner')\n('stein e. paul', 'paul', 'stein')\n('stotser r. george', 'george', 'stotser')\n('sullivan d. william', 'william', 'sullivan')\n('sylvester b. john', 'john', 'sylvester')\n('szemborski r. stanley', 'stanley', 'szemborski')\n('taylor g. horace', 'horace', 'taylor')\n('taylor p george', 'george', 'taylor')\n('temple r. herbert', 'herbert', 'temple')\n('tenoso e edwin', 'edwin', 'tenoso')\n('thompson e. james', 'james', 'thompson')\n('thompson n. ross', 'n. ross', 'thompson')\n('owens c. ira', 'ira', 'owens')\n('ryan, jr. j. martin', 'martin', 'ryan, jr.')\n('thompson, jr. w. dale', 'dale', 'thompson, jr.')\n('tracey a. patricia', 'patricia', 'tracey')\n('trapp lansford', 'lansford', 'trapp')\n('trask b charles', 'charles', 'trask')\n('trexler r garry', 'garry', 'trexler')\n('trzaskoma j. richard', 'richard', 'trzaskoma')\n('turner r. thomas', 'thomas', 'turner')\n('tuttle william', 'william', 'tuttle')\n('ulrich iii g. harry', 'harry', 'ulrich iii')\n('utterback s lloyd (chip)', 'lloyd (chip)', 'utterback')\n('record f james', 'james', 'record')\n('van alstyne a. john', 'john', 'van alstyne')\n('wagner w. robert', 'robert', 'wagner')\n('walters, jr h tome', 'tome', 'walters, jr')\n('waskow c thomas', 'thomas', 'waskow')\n('weber joseph', 'joseph', 'weber')\n('wehrle joseph', 'joseph', 'wehrle')\n('williams d. joseph', 'joseph', 'williams')\n('wilson robert', 'robert', 'wilson')\n('wishart len', 'len', 'wishart')\n('wood r. john', 'john', 'wood')\n('redd s. john', 'john', 'redd')\n('woodall d. jack', 'jack', 'woodall')\n('wooley w michael', 'michael', 'wooley')\n('yakovac joseph', 'joseph', 'yakovac')\n('burpee a richard', 'richard', 'burpee')\n('burshnick j anthony', 'anthony', 'burshnick')\n('cassity s james', 'james', 'cassity')\n('goodall a. harry', 'harry', 'goodall')\n('hamm r. charles', 'charles', 'hamm')\n('edward heinz', 'heinz', 'edward')\n('herres t robert', 'robert', 'herres')\n('lindsay j. james', 'james', 'lindsay')\n('kondra vernon', 'vernon', 'kondra')\n('ludwig h robert', 'robert', 'ludwig')\n('charles may', 'charles', 'may')\n('mccausland charles', 'charles', 'mccausland')\n('mccoy robert', 'robert', 'mccoy')\n('miller b monte', 'monte', 'miller')\n('monahan l george', 'george', 'monahan')\n('rees h clifford', 'clifford', 'rees')\n('rogers craven', 'craven', 'rogers')\n('shuber eg \"buck\"', 'eg \"buck\"', 'shuber')\n('polk r. stephen', 'stephen', 'polk')\n('smith carl', 'carl', 'smith')\n('smith w leo', 'leo', 'smith')\n('snyder donald', 'donald', 'snyder')\n('teal j david', 'david', 'teal')\n('wood c. norman', 'c. norman', 'wood')\n('mccorkle frederick', 'frederick', 'mccorkle')\n('ryan e michael', 'michael', 'ryan')\n('williams j. michael', 'michael', 'williams')\n('robertson t charles', 'charles', 'robertson')\n('saint e. crosbie', 'crosbie', 'saint')\n('pace peter', 'peter', 'pace')\n('laplante b. john', 'john', 'laplante')\n('bath j. ronald', 'ronald', 'bath')\n('scales  robert', 'robert', 'scales')\n('weaver a. paul', 'paul', 'weaver')\n('giardina  thomas', 'thomas', 'giardina')\n('soderberg  paul', 'paul', 'soderberg')\n('richardson  william', 'william', 'richardson')\n('sennewald  robert', 'robert', 'sennewald')\n('marquez  leo', 'leo', 'marquez')\n('montgomery m. thomas', 'thomas', 'montgomery')\n('laporte j. leon', 'leon', 'laporte')\n('mallory c. glynn', 'glynn', 'mallory')\n('tuttle o. jerry', 'jerry', 'tuttle')\n('santarelli d eugene', 'eugene', 'santarelli')\n('vines r. john', 'john', 'vines')\n('jaco t. neal', 'neal', 'jaco')\n('shalikashvili m. john', 'john', 'shalikashvili')\n('minihan a kenneth', 'kenneth', 'minihan')\n('soyster e. harry', 'harry', 'soyster')\n('mccall f. james', 'james', 'mccall')\n('sullivan r. gordon', 'gordon', 'sullivan')\n('barbara fast', 'fast', 'barbara ')\n('michael vane', 'vane', 'michael')\n('charles cartwright', 'charles', 'catwright')\n('paul j. kearn', 'paul', 'kearn')\n('larson r. charles', 'charles', 'larson')\n('mauz h. henry', 'henry', 'mauz')\n('moorman, jr. s. thomas', 'thomas', 'moorman, jr.')\n('trost carlisle', 'carlisle', 'trost')\n('shelton h. henry', 'henry', 'shelton')\n('obering iii a henry', 'henry', 'obering iii')\n('muellner k george', 'george', 'muellner')\n('johnson ii l charles', 'charles', 'johnson ii')\n('jones r. anthony', 'anthony', 'jones')\n('kevin hewitt', 'kevin', 'hewitt')\n('mark mccall', 'mark', 'mccall')\n('jeff tarakajian', 'jeff', 'tarakajian')\n('fassika bellette', 'fassika', 'bellette')\n('fanta taye', 'fanta', 'taye')\n('michael w. blair', 'michael', 'blair')\n('michael b. mukasey', 'michael', 'mukasey')\n('david w. rivkin', 'david', 'rivkin')\n('bruce e. yannett', 'bruce', 'yannett')\n('paul s. bird', 'paul', 'bird')\n('peter j. loughran', 'peter', 'loughran')\n(\"maeve o'connor\", 'maeve', \"o'connor\")\n('richard ward', 'richard', 'ward')\n('sean hecker', 'sean', 'hecker')\n('matthew c. rhoades', 'matthew', 'rhoades')\n('joseph s. pounder', 'joseph', 'pounder')\n('brian j. rogers', 'brian', 'rogers')\n('lanny j. davis', 'lanny', 'david')\n('adam w. goldberg', 'adam', 'goldberg')\n('joshua p. galper', 'joshua', 'galper')\n('eleanor s. mcmanus', 'eleanor', 'mcmanus')\n(nan, nan, nan)\n('lydia borand', 'bordan', 'lydia')\n('john mcgregor', 'mcgregor', 'john')\n('basan barabandi', 'barabandi', 'basan')\n('richard gephardt', 'gephardt', 'richard')\n(\"thomas o' donnell\", \"o'donnell\", 'thomas')\n('michael messmer', 'messmer', 'michael')\n('matthew gephardt', 'gephardt', 'matthew')\n('christine gephardt', 'gephardt', 'christine')\n('sharon daniels', 'daniels', 'sharon')\n('ricardo gonzalo', 'gonzalo', 'ricardo')\n('catherine goode', 'goode', 'catherine')\n(\"janice o'connell\", \"o'connell\", 'janice')\n('david mercer', 'mercer', 'david')\n('brian forni', 'forni', 'brian')\n('catherine perkinson', 'perkinson', 'catherine')\n('ruth thomas', 'thomas', 'ruth')\n('tom blank', 'blank', 'tom')\n('riad fareed alhijab alhasa', 'alhijab alhasa', 'riad')\n('ayman asfari', 'asfari', 'ayman ')\n('michael polt', 'polt', 'michael')\n('christine rake', 'rake', 'christine')\n('qubad talabany', 'talabany', 'qubad')\n('tom squituri', 'squituri', 'tom')\n"
     ]
    }
   ],
   "source": [
    "def check_all_actors(actors):\n",
    "    actors.apply(lambda x : check_actor_exist(x['Name'] , first_name=x['First Name'] , last_name=x['Last Name']) , axis=1)"
   ]
  },
  {
   "cell_type": "code",
   "execution_count": null,
   "metadata": {},
   "outputs": [],
   "source": []
  }
 ]
}